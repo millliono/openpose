{
 "cells": [
  {
   "cell_type": "code",
   "execution_count": 1,
   "metadata": {},
   "outputs": [],
   "source": [
    "import numpy as np\n",
    "import matplotlib.pyplot as plt\n",
    "\n",
    "import test_utils as f"
   ]
  },
  {
   "cell_type": "code",
   "execution_count": 2,
   "metadata": {},
   "outputs": [],
   "source": [
    "paf = np.zeros((2,28,28))\n",
    "\n",
    "paf[0][14:25, 5] = 1\n",
    "paf[0][14:25, 14] = 1\n",
    "\n",
    "peaks_a = np.array([[14,5], [14,14]])\n",
    "peaks_b = np.array([[25,5], [25,14]])\n",
    "\n"
   ]
  },
  {
   "cell_type": "code",
   "execution_count": 3,
   "metadata": {},
   "outputs": [
    {
     "name": "stdout",
     "output_type": "stream",
     "text": [
      "[[0, 0, 8.99999999181818], [0, 1, 0.7739572986587666], [1, 0, 0.7739572986587666], [1, 1, 8.99999999181818]]\n"
     ]
    }
   ],
   "source": [
    "lst = f.get_associations(paf, peaks_a, peaks_b)\n",
    "print(lst)"
   ]
  },
  {
   "cell_type": "code",
   "execution_count": 4,
   "metadata": {},
   "outputs": [
    {
     "name": "stdout",
     "output_type": "stream",
     "text": [
      "[[1, 0, 200], [0, 0, 100], [1, 1, 100], [0, 1, 80], [0, 2, 1], [1, 2, 1]]\n"
     ]
    }
   ],
   "source": [
    "aa = [[0, 0, 100], [0, 1, 80], [0, 2, 1], [1, 0, 200], [1, 1, 100], [1, 2, 1]]\n",
    "associations = sorted(aa, key=lambda x: x[2], reverse=True)\n",
    "print(associations)"
   ]
  },
  {
   "cell_type": "code",
   "execution_count": 5,
   "metadata": {},
   "outputs": [],
   "source": [
    "max_connections = 2\n",
    "\n",
    "connections = []\n",
    "used_a = []\n",
    "used_b = []\n",
    "associations = sorted(associations, key=lambda x: x[2], reverse=True)\n",
    "\n",
    "for i in associations:\n",
    "    if i[0] not in used_a and i[1] not in used_b:\n",
    "        connections.append(i)\n",
    "        used_a.append(i[0])\n",
    "        used_b.append(i[1])\n",
    "\n",
    "        if len(connections) >= max_connections:\n",
    "            break"
   ]
  },
  {
   "cell_type": "code",
   "execution_count": 6,
   "metadata": {},
   "outputs": [
    {
     "data": {
      "text/plain": [
       "[[1, 0, 200], [0, 1, 80]]"
      ]
     },
     "execution_count": 6,
     "metadata": {},
     "output_type": "execute_result"
    }
   ],
   "source": [
    "connections"
   ]
  }
 ],
 "metadata": {
  "kernelspec": {
   "display_name": "cnn",
   "language": "python",
   "name": "python3"
  },
  "language_info": {
   "codemirror_mode": {
    "name": "ipython",
    "version": 3
   },
   "file_extension": ".py",
   "mimetype": "text/x-python",
   "name": "python",
   "nbconvert_exporter": "python",
   "pygments_lexer": "ipython3",
   "version": "3.11.3"
  },
  "orig_nbformat": 4
 },
 "nbformat": 4,
 "nbformat_minor": 2
}
