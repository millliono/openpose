{
 "cells": [
  {
   "cell_type": "code",
   "execution_count": null,
   "metadata": {},
   "outputs": [],
   "source": [
    "import coco_dataset\n",
    "import pathlib\n",
    "import show_utils\n",
    "import common\n",
    "import model as mdl\n",
    "import torch\n",
    "import torch.nn as nn\n",
    "from torchvision.transforms import v2"
   ]
  },
  {
   "cell_type": "code",
   "execution_count": null,
   "metadata": {},
   "outputs": [],
   "source": [
    "coco_dataset = coco_dataset.CocoKeypoints(\n",
    "    root=str(pathlib.Path(\"../coco\") / \"images\" / \"val2017\"),\n",
    "    annFile=str(pathlib.Path(\"../coco\") / \"annotations\" / \"annotations\" / \"person_keypoints_val2017.json\"),\n",
    "    transform=None)\n",
    "i = 0"
   ]
  },
  {
   "cell_type": "code",
   "execution_count": null,
   "metadata": {},
   "outputs": [],
   "source": [
    "saved = \"saved.pth\"\n",
    "\n",
    "device = torch.device(\"cuda:0\" if torch.cuda.is_available() else \"cpu\")\n",
    "model = nn.DataParallel(mdl.openpose()).to(device)\n",
    "model.to(device)\n",
    "\n",
    "if torch.cuda.is_available():\n",
    "    model.load_state_dict(torch.load(saved))\n",
    "else:\n",
    "    model.load_state_dict(torch.load(saved, map_location=torch.device('cpu')))\n",
    "model.eval();"
   ]
  },
  {
   "cell_type": "code",
   "execution_count": null,
   "metadata": {},
   "outputs": [],
   "source": [
    "i = 9"
   ]
  },
  {
   "cell_type": "code",
   "execution_count": null,
   "metadata": {},
   "outputs": [],
   "source": [
    "inp, pafs, heatmaps, paf_locs, anns, id = coco_dataset[i]  \n",
    "\n",
    "show_utils.show_coco(anns[0], anns[1], coco_dataset.coco, draw_bbox=False)\n",
    "\n",
    "pred_pafs, pred_heatmaps = model(inp.unsqueeze_(0).to(device))\n",
    "\n",
    "print(f\"sample: {i}\")\n",
    "print(anns[0].size)\n",
    "i += 1"
   ]
  },
  {
   "cell_type": "code",
   "execution_count": null,
   "metadata": {},
   "outputs": [],
   "source": [
    "import post\n",
    "inp = v2.ToPILImage()(inp.squeeze_(0).cpu())\n",
    "with torch.no_grad():\n",
    "    humans = post.post_process(pred_heatmaps.squeeze_(0).cpu(), pred_pafs.squeeze_(0).cpu(), inp.size)\n",
    "    print(\"detected humans:\", len(humans))\n",
    "\n",
    "if humans:\n",
    "    formated = post.format(humans)\n",
    "    show_utils.draw_skeleton(anns[0], formated, connectivity=common.connect_skeleton) \n",
    "else:\n",
    "    print(\"NO DETECTIONS\")"
   ]
  },
  {
   "cell_type": "code",
   "execution_count": null,
   "metadata": {},
   "outputs": [],
   "source": [
    "with torch.no_grad():\n",
    "    pred_heatmaps = pred_heatmaps.squeeze_(0).cpu().numpy()\n",
    "    pred_pafs = pred_pafs.squeeze_(0).cpu().numpy()"
   ]
  },
  {
   "cell_type": "code",
   "execution_count": null,
   "metadata": {},
   "outputs": [],
   "source": [
    "# #---------heatmaps---------\n",
    "# print(f\"Heatmaps.size = {pred_heatmaps.shape}\")\n",
    "# show_utils.plot_grid(pred_heatmaps, 2, 10, (17,4))\n",
    "\n",
    "# #---------pafs---------\n",
    "# print(f\"Pafs.size = {pred_pafs.shape}\")\n",
    "# show_utils.plot_grid(pred_pafs[[x for x in range(len(pred_pafs)) if x%2==0]], 1, 17, (17, 2))\n",
    "# show_utils.plot_grid(pred_pafs[[x for x in range(len(pred_pafs)) if x%2==1]], 1, 17, (17, 2))\n",
    "\n",
    "# # ---------blend---------\n",
    "# var = pred_pafs[[x for x in range(len(pred_pafs)) if x%2==0]]\n",
    "# paf_locs = var / (var + 1e-5)\n",
    "# show_utils.blend(paf_locs, anns[0], rows=7, cols=3, figsize=(15, 30))\n",
    "# show_utils.blend(pred_heatmaps, anns[0], rows=7, cols=3, figsize=(15, 30))\n",
    "\n",
    "# # ---------surface---------\n",
    "# show_utils.surface(pred_pafs[17])\n",
    "\n",
    "# #---------quiver---------\n",
    "# show_utils.pafs_quiver_combined(pred_pafs, size=(46,46))\n",
    "# show_utils.pafs_quiver(pred_pafs, size=(46,46))"
   ]
  }
 ],
 "metadata": {
  "kernelspec": {
   "display_name": "cnn",
   "language": "python",
   "name": "python3"
  },
  "language_info": {
   "codemirror_mode": {
    "name": "ipython",
    "version": 3
   },
   "file_extension": ".py",
   "mimetype": "text/x-python",
   "name": "python",
   "nbconvert_exporter": "python",
   "pygments_lexer": "ipython3",
   "version": "3.11.5"
  },
  "orig_nbformat": 4
 },
 "nbformat": 4,
 "nbformat_minor": 2
}
