{
 "cells": [
  {
   "cell_type": "code",
   "execution_count": null,
   "metadata": {},
   "outputs": [],
   "source": [
    "import coco_dataset\n",
    "import pathlib\n",
    "import show_utils\n",
    "import common\n",
    "import copy\n",
    "from torchvision.transforms import v2\n",
    "import transforms as mytf\n",
    "import torch\n",
    "import model"
   ]
  },
  {
   "cell_type": "code",
   "execution_count": null,
   "metadata": {},
   "outputs": [],
   "source": [
    "inp_size = 368\n",
    "coco_dataset = coco_dataset.CocoKeypoints(\n",
    "    root=str(pathlib.Path(\"../coco\") / \"images\" / \"val2017\"),\n",
    "    annFile=str(pathlib.Path(\"../coco\") / \"annotations\" / \"annotations\" / \"person_keypoints_val2017.json\"),\n",
    "    transform=None)\n",
    "i = 0"
   ]
  },
  {
   "cell_type": "code",
   "execution_count": null,
   "metadata": {},
   "outputs": [],
   "source": [
    "device = \"cuda\" if torch.cuda.is_available() else \"cpu\"\n",
    "if device == \"cuda\":\n",
    "    device = \"cuda:0\"\n",
    "    model = torch.nn.DataParallel(model.openpose(), device_ids=[0])\n",
    "    model.load_state_dict(torch.load(\"ff0.pth\"))\n",
    "    model.eval()\n",
    "print(device)"
   ]
  },
  {
   "cell_type": "code",
   "execution_count": null,
   "metadata": {},
   "outputs": [],
   "source": [
    "i = 9"
   ]
  },
  {
   "cell_type": "code",
   "execution_count": null,
   "metadata": {},
   "outputs": [],
   "source": [
    "inp, pafs, heatmaps, paf_locs, anns, id = coco_dataset[i]  # ,mask_out\n",
    "\n",
    "show_utils.show_coco(anns[0], anns[1], coco_dataset.coco, draw_bbox=False)\n",
    "\n",
    "pred_pafs, pred_heatmaps = model(inp.unsqueeze_(0).to(device))\n",
    "\n",
    "print(f\"sample: {i}\")\n",
    "print(anns[0].size)\n",
    "i += 1"
   ]
  },
  {
   "cell_type": "code",
   "execution_count": null,
   "metadata": {},
   "outputs": [],
   "source": [
    "import post\n",
    "inp = v2.ToPILImage()(inp.squeeze_(0).cpu())\n",
    "with torch.no_grad():\n",
    "    humans = post.post_process(pred_heatmaps.squeeze_(0).cpu(), pred_pafs.squeeze_(0).cpu(), inp.size)\n",
    "    print(\"detected humans:\", len(humans))\n",
    "\n",
    "if humans:\n",
    "    formated = post.format(humans)\n",
    "    show_utils.draw_skeleton(inp, formated, connectivity=common.connect_skeleton) \n",
    "else:\n",
    "    print(\"NO DETECTIONS\")"
   ]
  },
  {
   "cell_type": "code",
   "execution_count": null,
   "metadata": {},
   "outputs": [],
   "source": [
    "humans"
   ]
  },
  {
   "cell_type": "code",
   "execution_count": null,
   "metadata": {},
   "outputs": [],
   "source": [
    "with torch.no_grad():\n",
    "    heatmaps = pred_heatmaps.squeeze_(0).cpu().numpy()\n",
    "    pafs = pred_pafs.squeeze_(0).cpu().numpy()\n",
    "\n",
    "# paf_locs = np.array(paf_locs, dtype=float)\n",
    "# mask_out = mask_out.squeeze_(0).numpy()"
   ]
  },
  {
   "cell_type": "code",
   "execution_count": null,
   "metadata": {},
   "outputs": [],
   "source": [
    "# #---------heatmaps---------\n",
    "# print(f\"Heatmaps.size = {heatmaps.shape}\")\n",
    "# show_utils.plot_grid(heatmaps, 2, 10, (17,4))\n",
    "\n",
    "# #---------pafs---------\n",
    "# print(f\"Pafs.size = {pafs.shape}\")\n",
    "# show_utils.plot_grid(pafs[[x for x in range(len(pafs)) if x%2==0]], 1, 17, (17, 2))\n",
    "# show_utils.plot_grid(pafs[[x for x in range(len(pafs)) if x%2==1]], 1, 17, (17, 2))\n",
    "\n",
    "# # ---------blend---------\n",
    "# show_utils.blend(heatmaps, inp, rows=7, cols=3, figsize=(15, 30))\n",
    "# show_utils.blend(paf_locs, inp, rows=6, cols=3, figsize=(15, 30))\n",
    "# # show_utils.blend([mask_out], inp, rows=1, cols=2, figsize=(12, 4))\n",
    "\n",
    "# # ---------surface---------\n",
    "# show_utils.surface(heatmaps[0])\n",
    "\n",
    "# #---------quiver---------\n",
    "# show_utils.pafs_quiver_combined(pafs, size=(46,46))\n",
    "# show_utils.pafs_quiver(pafs, size=(46,46))"
   ]
  }
 ],
 "metadata": {
  "kernelspec": {
   "display_name": "cnn",
   "language": "python",
   "name": "python3"
  },
  "language_info": {
   "codemirror_mode": {
    "name": "ipython",
    "version": 3
   },
   "file_extension": ".py",
   "mimetype": "text/x-python",
   "name": "python",
   "nbconvert_exporter": "python",
   "pygments_lexer": "ipython3",
   "version": "3.11.5"
  },
  "orig_nbformat": 4
 },
 "nbformat": 4,
 "nbformat_minor": 2
}
