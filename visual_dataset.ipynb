{
 "cells": [
  {
   "cell_type": "code",
   "execution_count": null,
   "metadata": {},
   "outputs": [],
   "source": [
    "import coco_dataset\n",
    "import pathlib\n",
    "import show_utils\n",
    "import matplotlib.pyplot as plt\n",
    "from torchvision import transforms\n",
    "import torch"
   ]
  },
  {
   "cell_type": "code",
   "execution_count": null,
   "metadata": {},
   "outputs": [],
   "source": [
    "inp_size = (368, 368)\n",
    "targ_size = (46, 46)\n",
    "coco_dataset = coco_dataset.CocoKeypoints(\n",
    "    root=str(pathlib.Path(\"../coco\") / \"images\" / \"train2017\"),\n",
    "    annFile=str(\n",
    "        pathlib.Path(\"../coco\")\n",
    "        / \"annotations\"\n",
    "        / \"annotations\"\n",
    "        / \"person_keypoints_train2017.json\"\n",
    "    ),\n",
    "    transform=transforms.Compose(\n",
    "        [\n",
    "            transforms.Resize((368, 368)),\n",
    "            transforms.ToTensor(),\n",
    "            transforms.ConvertImageDtype(torch.float32),\n",
    "            transforms.Normalize((0.485, 0.456, 0.406), (0.229, 0.224, 0.225)),\n",
    "        ]\n",
    "    ),\n",
    ")\n",
    "i = 0"
   ]
  },
  {
   "cell_type": "code",
   "execution_count": null,
   "metadata": {},
   "outputs": [],
   "source": [
    "i=0"
   ]
  },
  {
   "cell_type": "code",
   "execution_count": null,
   "metadata": {},
   "outputs": [],
   "source": [
    "sample = coco_dataset[i]\n",
    "\n",
    "tf_image, pafs, heatmaps, mask_out, keypoints, image, target = sample\n",
    "\n",
    "show_utils.show_coco(image, target, coco_dataset.coco, draw_bbox=False)\n",
    "\n",
    "# show_utils.show1(mask_out)\n",
    "\n",
    "show_utils.show_annotated(tf_image, keypoints, size=targ_size)\n",
    "\n",
    "plt.figure()\n",
    "show_utils.show_heatmaps_combined(heatmaps)\n",
    "\n",
    "\n",
    "# plt.figure()\n",
    "# show_utils.show_pafs_combined(pafs)\n",
    "\n",
    "\n",
    "# plt.figure()\n",
    "# show_utils.show_pafs_quiver_combined(pafs, size=targ_size)\n",
    "\n",
    "# plt.figure()\n",
    "# show_utils.show_pafs(pafs)\n",
    "\n",
    "plt.figure()\n",
    "show_utils.show_heatmaps(heatmaps)\n",
    "\n",
    "show_utils.show_pafs_quiver(pafs, size=targ_size)\n",
    "\n",
    "\n",
    "# print(torch.any((mask_out != 0) & (mask_out != 1)))\n",
    "\n",
    "print(i)\n",
    "i += 1"
   ]
  }
 ],
 "metadata": {
  "kernelspec": {
   "display_name": "cnn",
   "language": "python",
   "name": "python3"
  },
  "language_info": {
   "codemirror_mode": {
    "name": "ipython",
    "version": 3
   },
   "file_extension": ".py",
   "mimetype": "text/x-python",
   "name": "python",
   "nbconvert_exporter": "python",
   "pygments_lexer": "ipython3",
   "version": "3.11.5"
  },
  "orig_nbformat": 4
 },
 "nbformat": 4,
 "nbformat_minor": 2
}
