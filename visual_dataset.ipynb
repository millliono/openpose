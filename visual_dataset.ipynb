{
 "cells": [
  {
   "cell_type": "code",
   "execution_count": null,
   "metadata": {},
   "outputs": [],
   "source": [
    "import coco_dataset\n",
    "import pathlib\n",
    "import show_utils\n",
    "import common\n",
    "import numpy as np\n",
    "from torchvision.transforms import v2\n",
    "import transforms as mytf"
   ]
  },
  {
   "cell_type": "code",
   "execution_count": null,
   "metadata": {},
   "outputs": [],
   "source": [
    "inp_size = 368\n",
    "coco_dataset = coco_dataset.CocoKeypoints(\n",
    "    root=str(pathlib.Path(\"../coco\") / \"images\" / \"train2017\"),\n",
    "    annFile=str(pathlib.Path(\"../coco\") / \"annotations\" / \"annotations\" / \"person_keypoints_train2017.json\"),\n",
    "    transform=v2.Compose([mytf.RandomCrop(0.8),\n",
    "                              mytf.Resize(inp_size),\n",
    "                              mytf.Pad(inp_size),\n",
    "                              mytf.RandomRotation(40)]))\n",
    "i = 0"
   ]
  },
  {
   "cell_type": "code",
   "execution_count": null,
   "metadata": {},
   "outputs": [],
   "source": [
    "i = 5"
   ]
  },
  {
   "cell_type": "code",
   "execution_count": null,
   "metadata": {},
   "outputs": [],
   "source": [
    "inp, pafs, heatmaps, paf_locs, anns, id = coco_dataset[i]  # ,mask_out\n",
    "\n",
    "show_utils.show_coco(anns[0], anns[1], coco_dataset.coco, draw_bbox=False)\n",
    "\n",
    "print(f\"sample: {i}\")\n",
    "print(anns[0].size)\n",
    "i += 1"
   ]
  },
  {
   "cell_type": "code",
   "execution_count": null,
   "metadata": {},
   "outputs": [],
   "source": [
    "import post\n",
    "inp = v2.ToPILImage()(inp)\n",
    "humans = post.post_process(heatmaps, pafs, inp.size)\n",
    "print(\"detected humans:\", len(humans))\n",
    "\n",
    "if humans:\n",
    "    formated = post.format(humans)\n",
    "    show_utils.draw_skeleton(inp, formated, connectivity=common.connect_skeleton) \n",
    "else:\n",
    "    print(\"NO DETECTIONS\")"
   ]
  },
  {
   "cell_type": "code",
   "execution_count": null,
   "metadata": {},
   "outputs": [],
   "source": [
    "heatmaps = heatmaps.numpy()\n",
    "pafs = pafs.numpy()\n",
    "paf_locs = np.array(paf_locs, dtype=float)"
   ]
  },
  {
   "cell_type": "code",
   "execution_count": null,
   "metadata": {},
   "outputs": [],
   "source": [
    "# #---------heatmaps---------\n",
    "# print(f\"Heatmaps.size = {heatmaps.shape}\")\n",
    "# show_utils.plot_grid(heatmaps, 2, 10, (17,4))\n",
    "\n",
    "# #---------pafs---------\n",
    "# print(f\"Pafs.size = {pafs.shape}\")\n",
    "# show_utils.plot_grid(pafs[[x for x in range(len(pafs)) if x%2==0]], 1, 17, (17, 2))\n",
    "# show_utils.plot_grid(pafs[[x for x in range(len(pafs)) if x%2==1]], 1, 17, (17, 2))\n",
    "\n",
    "# # ---------blend---------\n",
    "# show_utils.blend(heatmaps, inp, rows=7, cols=3, figsize=(15, 30))\n",
    "# show_utils.blend(paf_locs, inp, rows=6, cols=3, figsize=(15, 30))\n",
    "# # show_utils.blend([mask_out], inp, rows=1, cols=2, figsize=(12, 4))\n",
    "\n",
    "# # ---------surface---------\n",
    "# show_utils.surface(heatmaps[0])\n",
    "\n",
    "# #---------quiver---------\n",
    "# show_utils.pafs_quiver_combined(pafs, size=(46,46))\n",
    "# show_utils.pafs_quiver(pafs, size=(46,46))"
   ]
  }
 ],
 "metadata": {
  "kernelspec": {
   "display_name": "cnn",
   "language": "python",
   "name": "python3"
  },
  "language_info": {
   "codemirror_mode": {
    "name": "ipython",
    "version": 3
   },
   "file_extension": ".py",
   "mimetype": "text/x-python",
   "name": "python",
   "nbconvert_exporter": "python",
   "pygments_lexer": "ipython3",
   "version": "3.11.5"
  },
  "orig_nbformat": 4
 },
 "nbformat": 4,
 "nbformat_minor": 2
}
