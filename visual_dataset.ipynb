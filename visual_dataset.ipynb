{
 "cells": [
  {
   "cell_type": "code",
   "execution_count": 1,
   "metadata": {},
   "outputs": [],
   "source": [
    "import coco_dataset\n",
    "import pathlib\n",
    "import show_utils\n",
    "import matplotlib.pyplot as plt\n",
    "from torchvision import transforms"
   ]
  },
  {
   "cell_type": "code",
   "execution_count": 2,
   "metadata": {},
   "outputs": [
    {
     "name": "stdout",
     "output_type": "stream",
     "text": [
      "loading annotations into memory...\n",
      "Done (t=5.86s)\n",
      "creating index...\n",
      "index created!\n"
     ]
    }
   ],
   "source": [
    "coco_dataset = coco_dataset.CocoKeypoints(\n",
    "    root=str(pathlib.Path(\"../coco\") / \"images\" / \"train2017\"),\n",
    "    annFile=str(\n",
    "        pathlib.Path(\"../coco\")\n",
    "        / \"annotations\"\n",
    "        / \"annotations\"\n",
    "        / \"person_keypoints_train2017.json\"\n",
    "    ),\n",
    "    transform=transforms.Resize([224, 224]),\n",
    "    resize_keypoints_to=[224, 224],\n",
    ")\n",
    "i=0"
   ]
  },
  {
   "cell_type": "code",
   "execution_count": null,
   "metadata": {},
   "outputs": [],
   "source": [
    "i=6"
   ]
  },
  {
   "cell_type": "code",
   "execution_count": null,
   "metadata": {},
   "outputs": [],
   "source": [
    "sample = coco_dataset[i]\n",
    "\n",
    "image, pafs, heatmaps, keypoints = sample\n",
    "\n",
    "\n",
    "show_utils.show_annotated(image, keypoints)\n",
    "\n",
    "plt.figure()\n",
    "show_utils.show_heatmaps_combined(heatmaps)\n",
    "\n",
    "plt.figure()\n",
    "\n",
    "plt.figure()\n",
    "show_utils.show_pafs_quiver_combined(pafs)\n",
    "\n",
    "\n",
    "show_utils.show_heatmaps(heatmaps)\n",
    "show_utils.show_pafs_quiver(pafs)\n",
    "\n",
    "# show_utils.show_pafs_combined(pafs)\n",
    "# show_utils.show_pafs(pafs)\n",
    "\n",
    "\n",
    "\n",
    "\n",
    "print(i)\n",
    "i+=1"
   ]
  },
  {
   "cell_type": "code",
   "execution_count": 3,
   "metadata": {},
   "outputs": [],
   "source": [
    "import model\n",
    "import torch\n",
    "\n",
    "model = model.openpose(in_channels=3)\n",
    "sample = coco_dataset[i]\n",
    "\n",
    "image, pafs, heatmaps,  = sample\n",
    "image = image.unsqueeze(0)\n",
    "\n",
    "\n",
    "\n",
    "out = model(image)\n"
   ]
  },
  {
   "cell_type": "code",
   "execution_count": 12,
   "metadata": {},
   "outputs": [
    {
     "name": "stdout",
     "output_type": "stream",
     "text": [
      "torch.Size([1, 32, 28, 28])\n",
      "torch.Size([1, 17, 28, 28])\n"
     ]
    }
   ],
   "source": [
    "print(out[0].size())\n",
    "print(out[1].size())"
   ]
  },
  {
   "cell_type": "code",
   "execution_count": 15,
   "metadata": {},
   "outputs": [
    {
     "name": "stdout",
     "output_type": "stream",
     "text": [
      "4\n",
      "2\n"
     ]
    }
   ],
   "source": [
    "print(len(out[2]))\n",
    "print(len(out[3]))"
   ]
  }
 ],
 "metadata": {
  "kernelspec": {
   "display_name": "cnn",
   "language": "python",
   "name": "python3"
  },
  "language_info": {
   "codemirror_mode": {
    "name": "ipython",
    "version": 3
   },
   "file_extension": ".py",
   "mimetype": "text/x-python",
   "name": "python",
   "nbconvert_exporter": "python",
   "pygments_lexer": "ipython3",
   "version": "3.11.5"
  },
  "orig_nbformat": 4
 },
 "nbformat": 4,
 "nbformat_minor": 2
}
