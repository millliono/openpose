{
 "cells": [
  {
   "cell_type": "code",
   "execution_count": 1,
   "metadata": {},
   "outputs": [],
   "source": [
    "import coco_dataset\n",
    "import pathlib\n",
    "import show_utils\n",
    "import matplotlib.pyplot as plt\n",
    "from torchvision import transforms"
   ]
  },
  {
   "cell_type": "code",
   "execution_count": 2,
   "metadata": {},
   "outputs": [
    {
     "name": "stdout",
     "output_type": "stream",
     "text": [
      "loading annotations into memory...\n",
      "Done (t=5.84s)\n",
      "creating index...\n",
      "index created!\n"
     ]
    }
   ],
   "source": [
    "coco_dataset = coco_dataset.CocoKeypoints(\n",
    "    root=str(pathlib.Path(\"../coco\") / \"images\" / \"train2017\"),\n",
    "    annFile=str(\n",
    "        pathlib.Path(\"../coco\")\n",
    "        / \"annotations\"\n",
    "        / \"annotations\"\n",
    "        / \"person_keypoints_train2017.json\"\n",
    "    ),\n",
    "    transform=transforms.Resize((512,512)),\n",
    ")\n",
    "i=0"
   ]
  },
  {
   "cell_type": "code",
   "execution_count": 3,
   "metadata": {},
   "outputs": [],
   "source": [
    "i=6"
   ]
  },
  {
   "cell_type": "code",
   "execution_count": 4,
   "metadata": {},
   "outputs": [],
   "source": [
    "sample = coco_dataset[i]\n",
    "\n",
    "image, pafs, heatmaps, keypoints, targ_size = sample\n",
    "\n",
    "show_utils.show_annotated(image, keypoints, size=targ_size)\n",
    "\n",
    "plt.figure()\n",
    "show_utils.show_heatmaps_combined(heatmaps)\n",
    "\n",
    "\n",
    "plt.figure()\n",
    "show_utils.show_pafs_combined(pafs)\n",
    "\n",
    "\n",
    "plt.figure()\n",
    "show_utils.show_pafs_quiver_combined(pafs, size=targ_size)\n",
    "\n",
    "# plt.figure()\n",
    "# show_utils.show_pafs(pafs)\n",
    "\n",
    "plt.figure()\n",
    "show_utils.show_heatmaps(heatmaps)\n",
    "\n",
    "# show_utils.show_pafs_quiver(pafs, size=new_size)\n",
    "\n",
    "\n",
    "\n",
    "\n",
    "print(i)\n",
    "i += 1"
   ]
  }
 ],
 "metadata": {
  "kernelspec": {
   "display_name": "cnn",
   "language": "python",
   "name": "python3"
  },
  "language_info": {
   "codemirror_mode": {
    "name": "ipython",
    "version": 3
   },
   "file_extension": ".py",
   "mimetype": "text/x-python",
   "name": "python",
   "nbconvert_exporter": "python",
   "pygments_lexer": "ipython3",
   "version": "3.11.5"
  },
  "orig_nbformat": 4
 },
 "nbformat": 4,
 "nbformat_minor": 2
}
