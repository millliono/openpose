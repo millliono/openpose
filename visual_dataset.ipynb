{
 "cells": [
  {
   "cell_type": "code",
   "execution_count": null,
   "metadata": {},
   "outputs": [],
   "source": [
    "import coco_dataset\n",
    "import pathlib\n",
    "import show_utils\n",
    "import matplotlib.pyplot as plt\n",
    "from torchvision import transforms"
   ]
  },
  {
   "cell_type": "code",
   "execution_count": null,
   "metadata": {},
   "outputs": [],
   "source": [
    "inp_size = (512,512)\n",
    "targ_size = (inp_size[0] // 8, inp_size[1] // 8)\n",
    "coco_dataset = coco_dataset.CocoKeypoints(\n",
    "    root=str(pathlib.Path(\"../coco\") / \"images\" / \"train2017\"),\n",
    "    annFile=str(\n",
    "        pathlib.Path(\"../coco\")\n",
    "        / \"annotations\"\n",
    "        / \"annotations\"\n",
    "        / \"person_keypoints_train2017.json\"\n",
    "    ),\n",
    "    transform=transforms.Resize(inp_size),\n",
    ")\n",
    "i=0"
   ]
  },
  {
   "cell_type": "code",
   "execution_count": null,
   "metadata": {},
   "outputs": [],
   "source": [
    "i=0"
   ]
  },
  {
   "cell_type": "code",
   "execution_count": null,
   "metadata": {},
   "outputs": [],
   "source": [
    "sample = coco_dataset[i]\n",
    "\n",
    "tf_image, pafs, heatmaps, keypoints, image, target, mask_out = sample\n",
    "\n",
    "print(image.size)\n",
    "\n",
    "\n",
    "show_utils.show_coco(image, target, coco_dataset.coco, draw_bbox=False)\n",
    "\n",
    "plt.figure()\n",
    "plt.imshow(mask_out)\n",
    "\n",
    "show_utils.show_annotated(tf_image, keypoints, size=targ_size)\n",
    "\n",
    "plt.figure()\n",
    "show_utils.show_heatmaps_combined(heatmaps)\n",
    "\n",
    "\n",
    "# plt.figure()\n",
    "# show_utils.show_pafs_combined(pafs)\n",
    "\n",
    "\n",
    "# plt.figure()\n",
    "# show_utils.show_pafs_quiver_combined(pafs, size=targ_size)\n",
    "\n",
    "# plt.figure()\n",
    "# show_utils.show_pafs(pafs)\n",
    "\n",
    "# plt.figure()\n",
    "# show_utils.show_heatmaps(heatmaps)\n",
    "\n",
    "# show_utils.show_pafs_quiver(pafs, size=new_size)\n",
    "\n",
    "\n",
    "\n",
    "\n",
    "print(i)\n",
    "i += 1"
   ]
  }
 ],
 "metadata": {
  "kernelspec": {
   "display_name": "cnn",
   "language": "python",
   "name": "python3"
  },
  "language_info": {
   "codemirror_mode": {
    "name": "ipython",
    "version": 3
   },
   "file_extension": ".py",
   "mimetype": "text/x-python",
   "name": "python",
   "nbconvert_exporter": "python",
   "pygments_lexer": "ipython3",
   "version": "3.11.5"
  },
  "orig_nbformat": 4
 },
 "nbformat": 4,
 "nbformat_minor": 2
}
