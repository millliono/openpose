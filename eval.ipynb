{
 "cells": [
  {
   "cell_type": "code",
   "execution_count": null,
   "metadata": {},
   "outputs": [],
   "source": [
    "import model\n",
    "import coco_dataset\n",
    "import pathlib\n",
    "import show_utils\n",
    "import matplotlib.pyplot as plt\n",
    "from torchvision import transforms\n",
    "import torch"
   ]
  },
  {
   "cell_type": "code",
   "execution_count": null,
   "metadata": {},
   "outputs": [],
   "source": [
    "coco_dataset = coco_dataset.CocoKeypoints(\n",
    "    root=str(pathlib.Path(\"../coco\") / \"images\" / \"train2017\"),\n",
    "    annFile=str(\n",
    "        pathlib.Path(\"../coco\")\n",
    "        / \"annotations\"\n",
    "        / \"annotations\"\n",
    "        / \"person_keypoints_train2017.json\"\n",
    "    ),\n",
    "    transform=transforms.Resize((368,368)),\n",
    ")\n",
    "i=0"
   ]
  },
  {
   "cell_type": "code",
   "execution_count": null,
   "metadata": {},
   "outputs": [],
   "source": [
    "device = \"cuda\" if torch.cuda.is_available() else \"cpu\"\n",
    "if device==\"cuda\":\n",
    "    device = \"cuda:0\"\n",
    "    model = torch.nn.DataParallel(model.openpose(), device_ids=[0])\n",
    "    model.load_state_dict(torch.load(\"save_model_avgPaf.pth\"))\n",
    "    model.eval();\n",
    "print(device)"
   ]
  },
  {
   "cell_type": "code",
   "execution_count": null,
   "metadata": {},
   "outputs": [],
   "source": [
    "i = 0"
   ]
  },
  {
   "cell_type": "code",
   "execution_count": null,
   "metadata": {},
   "outputs": [],
   "source": [
    "sample = coco_dataset[i]\n",
    "tf_image, pafs, heatmaps, mask_out, keypoints, image, target = sample\n",
    "tf_image.unsqueeze_(0)\n",
    "\n",
    "pred_pafs, pred_heatmaps, _, _ = model(tf_image.to(device)) #input\n",
    "\n",
    "with torch.no_grad():\n",
    "    tf_image.squeeze_(0)\n",
    "    pred_pafs.squeeze_(0)\n",
    "    pred_heatmaps.squeeze_(0)\n",
    "    show_utils.show1(tf_image)\n",
    "\n",
    "    plt.figure()\n",
    "    show_utils.show_heatmaps_combined(pred_heatmaps.cpu())\n",
    "\n",
    "    plt.figure()\n",
    "    show_utils.show_heatmaps(pred_heatmaps.cpu())\n",
    "\n",
    "    # plt.figure()\n",
    "    # show_utils.show_pafs_combined(pred_pafs.cpu())\n",
    "\n",
    "    plt.figure()\n",
    "    show_utils.show_pafs_quiver_combined(pred_pafs.cpu(), size=(46, 46))\n",
    "\n",
    "    print(i)\n",
    "    i+=1"
   ]
  }
 ],
 "metadata": {
  "kernelspec": {
   "display_name": "cnn",
   "language": "python",
   "name": "python3"
  },
  "language_info": {
   "codemirror_mode": {
    "name": "ipython",
    "version": 3
   },
   "file_extension": ".py",
   "mimetype": "text/x-python",
   "name": "python",
   "nbconvert_exporter": "python",
   "pygments_lexer": "ipython3",
   "version": "3.11.5"
  },
  "orig_nbformat": 4
 },
 "nbformat": 4,
 "nbformat_minor": 2
}
